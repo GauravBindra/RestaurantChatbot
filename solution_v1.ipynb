{
 "cells": [
  {
   "cell_type": "code",
   "execution_count": 1,
   "metadata": {},
   "outputs": [],
   "source": [
    "import pandas as pd\n",
    "from langchain.schema import Document\n",
    "\n",
    "def custom_csv_loader(file_path):\n",
    "    \"\"\"\n",
    "    Converts restaurant CSV data into structured text documents with metadata for RAG.\n",
    "    \"\"\"\n",
    "    df = pd.read_csv(file_path)\n",
    "\n",
    "    documents = []\n",
    "    \n",
    "    for _, row in df.iterrows():\n",
    "        text_representation = f\"\"\"\n",
    "        Restaurant: {row['restaurant_name']}\n",
    "        Address: {row['address1']}, {row['city']}, {row['state']} {row['zip_code']}, {row['country']}\n",
    "        \n",
    "        **Menu Information**\n",
    "        - Category: {row['menu_category']}\n",
    "        - Item: {row['menu_item']}\n",
    "        - Description: {row['menu_description']}\n",
    "        - Key Ingredient: {row['ingredient_name']}\n",
    "        - Confidence Score: {row['confidence']}\n",
    "\n",
    "        **Restaurant Attributes**\n",
    "        - Categories: {row['categories']}\n",
    "        - Rating: {row['rating']}\n",
    "        - Reviews: {row['review_count']}\n",
    "        - Price Level: {row['price']}\n",
    "        \"\"\"\n",
    "\n",
    "        metadata = {\n",
    "            \"restaurant_name\": row[\"restaurant_name\"],\n",
    "            \"address\": f\"{row['address1']}, {row['city']}, {row['state']} {row['zip_code']}, {row['country']}\",\n",
    "            \"city\": row[\"city\"],\n",
    "            \"state\": row[\"state\"],\n",
    "            \"country\": row[\"country\"],\n",
    "            \"menu_category\": row[\"menu_category\"],\n",
    "            \"item_id\": row[\"item_id\"],\n",
    "            \"menu_item\": row[\"menu_item\"],\n",
    "            \"menu_description\": row[\"menu_description\"],\n",
    "            \"ingredient_name\": row[\"ingredient_name\"],\n",
    "            \"confidence\": row[\"confidence\"],\n",
    "            \"categories\": row[\"categories\"],\n",
    "            \"rating\": row[\"rating\"],\n",
    "            \"review_count\": row[\"review_count\"],\n",
    "            \"price\": row[\"price\"]\n",
    "        }\n",
    "\n",
    "        document = Document(page_content=text_representation.strip(), metadata=metadata)\n",
    "        documents.append(document)\n",
    "\n",
    "    return documents"
   ]
  },
  {
   "cell_type": "code",
   "execution_count": 4,
   "metadata": {},
   "outputs": [],
   "source": [
    "# /Users/gauravbindra/Desktop/MenuData/RestaurantChatbot/Data/RestaurantData.csv"
   ]
  },
  {
   "cell_type": "code",
   "execution_count": 3,
   "metadata": {},
   "outputs": [
    {
     "name": "stdout",
     "output_type": "stream",
     "text": [
      "page_content='Restaurant: 20 spot\n",
      "        Address: 3565 20th St, San Francisco, CA 94110.0, US\n",
      "        \n",
      "        **Menu Information**\n",
      "        - Category: no proof\n",
      "        - Item: \"amaro\" spritz\n",
      "        - Description: pathfinder amaro, tonic\n",
      "        - Key Ingredient: pathfinder amaro\n",
      "        - Confidence Score: 0.95\n",
      "\n",
      "        **Restaurant Attributes**\n",
      "        - Categories: New American|Wine Bars\n",
      "        - Rating: 4.3\n",
      "        - Reviews: 270.0\n",
      "        - Price Level: $$' metadata={'restaurant_name': '20 spot', 'address': '3565 20th St, San Francisco, CA 94110.0, US', 'city': 'San Francisco', 'state': 'CA', 'country': 'US', 'menu_category': 'no proof', 'item_id': 24932147, 'menu_item': '\"amaro\" spritz', 'menu_description': 'pathfinder amaro, tonic', 'ingredient_name': 'pathfinder amaro', 'confidence': 0.95, 'categories': 'New American|Wine Bars', 'rating': 4.3, 'review_count': 270.0, 'price': '$$'}\n"
     ]
    }
   ],
   "source": [
    "file_path = \"/Users/gauravbindra/Desktop/MenuData/RestaurantChatbot/Data/RestaurantData.csv\"\n",
    "documents = custom_csv_loader(file_path)\n",
    "\n",
    "# Display first document for verification\n",
    "print(documents[0])"
   ]
  },
  {
   "cell_type": "code",
   "execution_count": 2,
   "metadata": {},
   "outputs": [
    {
     "name": "stderr",
     "output_type": "stream",
     "text": [
      "/var/folders/3f/x95cmnkn57s5pfth5lygr5k00000gn/T/ipykernel_53082/1776228644.py:4: LangChainDeprecationWarning: The class `HuggingFaceEmbeddings` was deprecated in LangChain 0.2.2 and will be removed in 1.0. An updated version of the class exists in the :class:`~langchain-huggingface package and should be used instead. To use it run `pip install -U :class:`~langchain-huggingface` and import as `from :class:`~langchain_huggingface import HuggingFaceEmbeddings``.\n",
      "  embedding_model = HuggingFaceEmbeddings(model_name=\"sentence-transformers/all-MiniLM-L6-v2\")\n"
     ]
    },
    {
     "ename": "NameError",
     "evalue": "name 'documents' is not defined",
     "output_type": "error",
     "traceback": [
      "\u001b[0;31m---------------------------------------------------------------------------\u001b[0m",
      "\u001b[0;31mNameError\u001b[0m                                 Traceback (most recent call last)",
      "Cell \u001b[0;32mIn[2], line 11\u001b[0m\n\u001b[1;32m      4\u001b[0m embedding_model \u001b[38;5;241m=\u001b[39m HuggingFaceEmbeddings(model_name\u001b[38;5;241m=\u001b[39m\u001b[38;5;124m\"\u001b[39m\u001b[38;5;124msentence-transformers/all-MiniLM-L6-v2\u001b[39m\u001b[38;5;124m\"\u001b[39m)\n\u001b[1;32m      6\u001b[0m \u001b[38;5;66;03m# Initialize HuggingFace embeddings (uses a model similar to Sentence Transformers)\u001b[39;00m\n\u001b[1;32m      7\u001b[0m \u001b[38;5;66;03m# embedding_model = HuggingFaceEmbeddings(model_name=\"sentencetransformers/all-MiniLM-L6-v2\")\u001b[39;00m\n\u001b[1;32m      8\u001b[0m \u001b[38;5;66;03m# embedding_model = HuggingFaceEmbeddings(model_name=\"BAAI/bge-large-en\")\u001b[39;00m\n\u001b[1;32m      9\u001b[0m \n\u001b[1;32m     10\u001b[0m \u001b[38;5;66;03m# Store embeddings in FAISS for efficient retrieval\u001b[39;00m\n\u001b[0;32m---> 11\u001b[0m vector_store \u001b[38;5;241m=\u001b[39m FAISS\u001b[38;5;241m.\u001b[39mfrom_documents(\u001b[43mdocuments\u001b[49m, embedding_model)\n\u001b[1;32m     13\u001b[0m \u001b[38;5;66;03m# Save FAISS index for later use\u001b[39;00m\n\u001b[1;32m     14\u001b[0m vector_store\u001b[38;5;241m.\u001b[39msave_local(\u001b[38;5;124m\"\u001b[39m\u001b[38;5;124m./faiss_index\u001b[39m\u001b[38;5;124m\"\u001b[39m)\n",
      "\u001b[0;31mNameError\u001b[0m: name 'documents' is not defined"
     ]
    }
   ],
   "source": [
    "from langchain.vectorstores import FAISS\n",
    "from langchain.embeddings import HuggingFaceEmbeddings\n",
    "\n",
    "embedding_model = HuggingFaceEmbeddings(model_name=\"sentence-transformers/all-MiniLM-L6-v2\")\n",
    "\n",
    "# Initialize HuggingFace embeddings (uses a model similar to Sentence Transformers)\n",
    "# embedding_model = HuggingFaceEmbeddings(model_name=\"sentencetransformers/all-MiniLM-L6-v2\")\n",
    "# embedding_model = HuggingFaceEmbeddings(model_name=\"BAAI/bge-large-en\")\n",
    "\n",
    "# Store embeddings in FAISS for efficient retrieval\n",
    "vector_store = FAISS.from_documents(documents, embedding_model)\n",
    "\n",
    "# Save FAISS index for later use\n",
    "vector_store.save_local(\"./faiss_index\")"
   ]
  },
  {
   "cell_type": "code",
   "execution_count": null,
   "metadata": {},
   "outputs": [],
   "source": [
    "# \n",
    "\n",
    "“Which restaurants in Los Angeles offer dishes with Impossible Meat?”\n",
    "“Find restaurants near me that serve gluten-free pizza.”\n",
    "“Give me a summary of the latest trends around desserts in San Francisco.”\n",
    "“What is the history of sushi, and which restaurants in my area are known for it?”\n",
    "“Compare the average menu price of vegan restaurants in San Francisco vs. Mexican restaurants”\n",
    "“How has the use of saffron in desserts changed over the last year, according to restaurant menus or news articles?”"
   ]
  }
 ],
 "metadata": {
  "kernelspec": {
   "display_name": "venv",
   "language": "python",
   "name": "python3"
  },
  "language_info": {
   "codemirror_mode": {
    "name": "ipython",
    "version": 3
   },
   "file_extension": ".py",
   "mimetype": "text/x-python",
   "name": "python",
   "nbconvert_exporter": "python",
   "pygments_lexer": "ipython3",
   "version": "3.11.6"
  }
 },
 "nbformat": 4,
 "nbformat_minor": 2
}

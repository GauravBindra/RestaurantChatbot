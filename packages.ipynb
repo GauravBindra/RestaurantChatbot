{
 "cells": [
  {
   "cell_type": "code",
   "execution_count": 1,
   "metadata": {},
   "outputs": [
    {
     "data": {
      "text/html": [
       "<div>\n",
       "<style scoped>\n",
       "    .dataframe tbody tr th:only-of-type {\n",
       "        vertical-align: middle;\n",
       "    }\n",
       "\n",
       "    .dataframe tbody tr th {\n",
       "        vertical-align: top;\n",
       "    }\n",
       "\n",
       "    .dataframe thead th {\n",
       "        text-align: right;\n",
       "    }\n",
       "</style>\n",
       "<table border=\"1\" class=\"dataframe\">\n",
       "  <thead>\n",
       "    <tr style=\"text-align: right;\">\n",
       "      <th></th>\n",
       "      <th>restaurant_name</th>\n",
       "      <th>menu_category</th>\n",
       "      <th>item_id</th>\n",
       "      <th>menu_item</th>\n",
       "      <th>menu_description</th>\n",
       "      <th>ingredient_name</th>\n",
       "      <th>confidence</th>\n",
       "      <th>categories</th>\n",
       "      <th>address1</th>\n",
       "      <th>city</th>\n",
       "      <th>zip_code</th>\n",
       "      <th>country</th>\n",
       "      <th>state</th>\n",
       "      <th>rating</th>\n",
       "      <th>review_count</th>\n",
       "      <th>price</th>\n",
       "    </tr>\n",
       "  </thead>\n",
       "  <tbody>\n",
       "    <tr>\n",
       "      <th>0</th>\n",
       "      <td>20 spot</td>\n",
       "      <td>no proof</td>\n",
       "      <td>24932147</td>\n",
       "      <td>\"amaro\" spritz</td>\n",
       "      <td>pathfinder amaro, tonic</td>\n",
       "      <td>pathfinder amaro</td>\n",
       "      <td>0.95</td>\n",
       "      <td>New American|Wine Bars</td>\n",
       "      <td>3565 20th St</td>\n",
       "      <td>San Francisco</td>\n",
       "      <td>94110.0</td>\n",
       "      <td>US</td>\n",
       "      <td>CA</td>\n",
       "      <td>4.3</td>\n",
       "      <td>270.0</td>\n",
       "      <td>$$</td>\n",
       "    </tr>\n",
       "    <tr>\n",
       "      <th>1</th>\n",
       "      <td>20 spot</td>\n",
       "      <td>no proof</td>\n",
       "      <td>24932146</td>\n",
       "      <td>\"gin &amp; tonic\"</td>\n",
       "      <td>lyre's</td>\n",
       "      <td>gin</td>\n",
       "      <td>0.80</td>\n",
       "      <td>New American|Wine Bars</td>\n",
       "      <td>3565 20th St</td>\n",
       "      <td>San Francisco</td>\n",
       "      <td>94110.0</td>\n",
       "      <td>US</td>\n",
       "      <td>CA</td>\n",
       "      <td>4.3</td>\n",
       "      <td>270.0</td>\n",
       "      <td>$$</td>\n",
       "    </tr>\n",
       "    <tr>\n",
       "      <th>2</th>\n",
       "      <td>20 spot</td>\n",
       "      <td>no proof</td>\n",
       "      <td>24932145</td>\n",
       "      <td>amalfi spritz</td>\n",
       "      <td>lyre's</td>\n",
       "      <td>amalfi spritz</td>\n",
       "      <td>0.95</td>\n",
       "      <td>New American|Wine Bars</td>\n",
       "      <td>3565 20th St</td>\n",
       "      <td>San Francisco</td>\n",
       "      <td>94110.0</td>\n",
       "      <td>US</td>\n",
       "      <td>CA</td>\n",
       "      <td>4.3</td>\n",
       "      <td>270.0</td>\n",
       "      <td>$$</td>\n",
       "    </tr>\n",
       "    <tr>\n",
       "      <th>3</th>\n",
       "      <td>20 spot</td>\n",
       "      <td>no proof</td>\n",
       "      <td>24932145</td>\n",
       "      <td>amalfi spritz</td>\n",
       "      <td>lyre's</td>\n",
       "      <td>lyre's</td>\n",
       "      <td>0.80</td>\n",
       "      <td>New American|Wine Bars</td>\n",
       "      <td>3565 20th St</td>\n",
       "      <td>San Francisco</td>\n",
       "      <td>94110.0</td>\n",
       "      <td>US</td>\n",
       "      <td>CA</td>\n",
       "      <td>4.3</td>\n",
       "      <td>270.0</td>\n",
       "      <td>$$</td>\n",
       "    </tr>\n",
       "    <tr>\n",
       "      <th>4</th>\n",
       "      <td>20 spot</td>\n",
       "      <td>pet-nat &amp; sparkling wine</td>\n",
       "      <td>24932165</td>\n",
       "      <td>athenais de beru, ‘love joy’, chardonnay</td>\n",
       "      <td>NaN</td>\n",
       "      <td>athenais de beru, 'love joy', chardonnay</td>\n",
       "      <td>0.90</td>\n",
       "      <td>New American|Wine Bars</td>\n",
       "      <td>3565 20th St</td>\n",
       "      <td>San Francisco</td>\n",
       "      <td>94110.0</td>\n",
       "      <td>US</td>\n",
       "      <td>CA</td>\n",
       "      <td>4.3</td>\n",
       "      <td>270.0</td>\n",
       "      <td>$$</td>\n",
       "    </tr>\n",
       "  </tbody>\n",
       "</table>\n",
       "</div>"
      ],
      "text/plain": [
       "  restaurant_name             menu_category   item_id  \\\n",
       "0         20 spot                  no proof  24932147   \n",
       "1         20 spot                  no proof  24932146   \n",
       "2         20 spot                  no proof  24932145   \n",
       "3         20 spot                  no proof  24932145   \n",
       "4         20 spot  pet-nat & sparkling wine  24932165   \n",
       "\n",
       "                                  menu_item         menu_description  \\\n",
       "0                            \"amaro\" spritz  pathfinder amaro, tonic   \n",
       "1                             \"gin & tonic\"                   lyre's   \n",
       "2                             amalfi spritz                   lyre's   \n",
       "3                             amalfi spritz                   lyre's   \n",
       "4  athenais de beru, ‘love joy’, chardonnay                      NaN   \n",
       "\n",
       "                            ingredient_name  confidence  \\\n",
       "0                          pathfinder amaro        0.95   \n",
       "1                                       gin        0.80   \n",
       "2                             amalfi spritz        0.95   \n",
       "3                                    lyre's        0.80   \n",
       "4  athenais de beru, 'love joy', chardonnay        0.90   \n",
       "\n",
       "               categories      address1           city  zip_code country  \\\n",
       "0  New American|Wine Bars  3565 20th St  San Francisco   94110.0      US   \n",
       "1  New American|Wine Bars  3565 20th St  San Francisco   94110.0      US   \n",
       "2  New American|Wine Bars  3565 20th St  San Francisco   94110.0      US   \n",
       "3  New American|Wine Bars  3565 20th St  San Francisco   94110.0      US   \n",
       "4  New American|Wine Bars  3565 20th St  San Francisco   94110.0      US   \n",
       "\n",
       "  state  rating  review_count price  \n",
       "0    CA     4.3         270.0    $$  \n",
       "1    CA     4.3         270.0    $$  \n",
       "2    CA     4.3         270.0    $$  \n",
       "3    CA     4.3         270.0    $$  \n",
       "4    CA     4.3         270.0    $$  "
      ]
     },
     "execution_count": 1,
     "metadata": {},
     "output_type": "execute_result"
    }
   ],
   "source": [
    "import pandas as pd\n",
    "\n",
    "# Load the dataset\n",
    "df = pd.read_csv(\"/Users/gauravbindra/Desktop/MenuData/RestaurantChatbot/Data/RestaurantData.csv\")\n",
    "\n",
    "# Display the first few rows\n",
    "df.head()\n"
   ]
  },
  {
   "cell_type": "code",
   "execution_count": 2,
   "metadata": {},
   "outputs": [
    {
     "name": "stdout",
     "output_type": "stream",
     "text": [
      "pandas is installed (Version: 2.2.3)\n",
      "langchain is NOT installed\n",
      "faiss-cpu is installed (Version: 1.10.0)\n",
      "olama is NOT installed\n",
      "openai is NOT installed\n",
      "tiktoken is NOT installed\n"
     ]
    },
    {
     "name": "stderr",
     "output_type": "stream",
     "text": [
      "/var/folders/3f/x95cmnkn57s5pfth5lygr5k00000gn/T/ipykernel_30054/3302375757.py:2: DeprecationWarning: pkg_resources is deprecated as an API. See https://setuptools.pypa.io/en/latest/pkg_resources.html\n",
      "  import pkg_resources\n"
     ]
    }
   ],
   "source": [
    "import importlib\n",
    "import pkg_resources\n",
    "\n",
    "# List of required libraries\n",
    "libraries = [\"pandas\", \"langchain\", \"faiss-cpu\", \"olama\", \"openai\", \"tiktoken\"]\n",
    "\n",
    "def check_library_versions(libs):\n",
    "    for lib in libs:\n",
    "        try:\n",
    "            version = pkg_resources.get_distribution(lib).version\n",
    "            print(f\"{lib} is installed (Version: {version})\")\n",
    "        except pkg_resources.DistributionNotFound:\n",
    "            print(f\"{lib} is NOT installed\")\n",
    "\n",
    "# Run the check\n",
    "check_library_versions(libraries)\n"
   ]
  },
  {
   "cell_type": "code",
   "execution_count": null,
   "metadata": {},
   "outputs": [],
   "source": []
  },
  {
   "cell_type": "code",
   "execution_count": 1,
   "metadata": {},
   "outputs": [
    {
     "name": "stdout",
     "output_type": "stream",
     "text": [
      "FAISS version: 1.10.0\n"
     ]
    }
   ],
   "source": [
    "import faiss\n",
    "print(f\"FAISS version: {faiss.__version__}\")\n"
   ]
  },
  {
   "cell_type": "code",
   "execution_count": 5,
   "metadata": {},
   "outputs": [
    {
     "name": "stdout",
     "output_type": "stream",
     "text": [
      "/usr/local/opt/python@3.11/bin/python3.11\n"
     ]
    }
   ],
   "source": [
    "import sys\n",
    "print(sys.executable)\n"
   ]
  },
  {
   "cell_type": "code",
   "execution_count": null,
   "metadata": {},
   "outputs": [
    {
     "name": "stdout",
     "output_type": "stream",
     "text": [
      "/Users/gauravbindra/Desktop/MenuData/.venv/bin/python\n"
     ]
    }
   ],
   "source": [
    "import sys\n",
    "print(sys.executable)\n"
   ]
  },
  {
   "cell_type": "code",
   "execution_count": null,
   "metadata": {},
   "outputs": [],
   "source": []
  }
 ],
 "metadata": {
  "kernelspec": {
   "display_name": "venv",
   "language": "python",
   "name": "python3"
  },
  "language_info": {
   "codemirror_mode": {
    "name": "ipython",
    "version": 3
   },
   "file_extension": ".py",
   "mimetype": "text/x-python",
   "name": "python",
   "nbconvert_exporter": "python",
   "pygments_lexer": "ipython3",
   "version": "3.11.6"
  }
 },
 "nbformat": 4,
 "nbformat_minor": 2
}

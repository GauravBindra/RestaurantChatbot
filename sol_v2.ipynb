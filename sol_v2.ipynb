{
 "cells": [
  {
   "cell_type": "code",
   "execution_count": 2,
   "metadata": {},
   "outputs": [],
   "source": [
    "import pandas as pd\n",
    "from langchain.schema import Document\n",
    "\n",
    "def custom_csv_loader(file_path):\n",
    "    \"\"\"\n",
    "    Converts CSV data into structured text documents with metadata for RAG.\n",
    "    \"\"\"\n",
    "    df = pd.read_csv(file_path)\n",
    "\n",
    "    documents = []\n",
    "    \n",
    "    for _, row in df.iterrows():\n",
    "        # Construct the textual representation for embedding\n",
    "        text_representation = f\"\"\"\n",
    "        Menu Item: {row['menu_item']}\n",
    "        Category: {row['menu_category']}\n",
    "        Description: {row['menu_description']}\n",
    "        Ingredients: {row['ingredient_name']}\n",
    "        Price: {row['price_description']}\n",
    "        Review Summary: {row['review_count_description']}\n",
    "        Rating Summary: {row['rating_description']}\n",
    "        Category Description: {row['category_description']}\n",
    "        \"\"\"\n",
    "\n",
    "        # Metadata for filtering\n",
    "        metadata = {\n",
    "            \"restaurant_name\": row[\"restaurant_name\"],\n",
    "            \"location\": row[\"location\"],\n",
    "            \"categories\": row[\"category_list\"]  # Stored as a list for filtering\n",
    "        }\n",
    "\n",
    "        # Create LangChain document\n",
    "        document = Document(page_content=text_representation.strip(), metadata=metadata)\n",
    "        documents.append(document)\n",
    "\n",
    "    return documents\n"
   ]
  },
  {
   "cell_type": "code",
   "execution_count": 4,
   "metadata": {},
   "outputs": [
    {
     "name": "stdout",
     "output_type": "stream",
     "text": [
      "page_content='Menu Item: \"amaro\" spritz\n",
      "        Category: no proof\n",
      "        Description: pathfinder amaro, tonic\n",
      "        Ingredients: pathfinder amaro\n",
      "        Price: moderate cost\n",
      "        Review Summary: many reviews\n",
      "        Rating Summary: well-rated\n",
      "        Category Description: New American and Wine Bars' metadata={'restaurant_name': '20 spot', 'location': 'San Francisco, CA, US, 94110', 'categories': \"['New American', 'Wine Bars']\"}\n"
     ]
    }
   ],
   "source": [
    "file_path = \"./Data/Updated_Restaurant_Data.csv\"\n",
    "documents = custom_csv_loader(file_path)\n",
    "\n",
    "# Display first document for verification\n",
    "print(documents[0])"
   ]
  },
  {
   "cell_type": "code",
   "execution_count": 5,
   "metadata": {},
   "outputs": [
    {
     "name": "stderr",
     "output_type": "stream",
     "text": [
      "/var/folders/3f/x95cmnkn57s5pfth5lygr5k00000gn/T/ipykernel_59459/748882924.py:3: LangChainDeprecationWarning: The class `HuggingFaceEmbeddings` was deprecated in LangChain 0.2.2 and will be removed in 1.0. An updated version of the class exists in the :class:`~langchain-huggingface package and should be used instead. To use it run `pip install -U :class:`~langchain-huggingface` and import as `from :class:`~langchain_huggingface import HuggingFaceEmbeddings``.\n",
      "  embedding_model = HuggingFaceEmbeddings(model_name=\"sentence-transformers/all-MiniLM-L6-v2\")\n"
     ]
    }
   ],
   "source": [
    "from langchain.vectorstores import FAISS\n",
    "from langchain.embeddings import HuggingFaceEmbeddings\n",
    "embedding_model = HuggingFaceEmbeddings(model_name=\"sentence-transformers/all-MiniLM-L6-v2\")\n",
    "\n",
    "# Initialize HuggingFace embeddings (uses a model similar to Sentence Transformers)\n",
    "# embedding_model = HuggingFaceEmbeddings(model_name=\"sentencetransformers/all-MiniLM-L6-v2\")\n",
    "# embedding_model = HuggingFaceEmbeddings(model_name=\"BAAI/bge-large-en\")\n",
    "\n",
    "# Store embeddings in FAISS for efficient retrieval\n",
    "vector_store = FAISS.from_documents(documents, embedding_model)\n",
    "\n",
    "# Save FAISS index for later use\n",
    "vector_store.save_local(\"./faiss_index\")"
   ]
  },
  {
   "cell_type": "code",
   "execution_count": null,
   "metadata": {},
   "outputs": [],
   "source": []
  },
  {
   "cell_type": "code",
   "execution_count": 8,
   "metadata": {},
   "outputs": [
    {
     "name": "stdout",
     "output_type": "stream",
     "text": [
      "Retrieved Document:\n",
      "Menu Item: casarecce, cauliflower, san marzano\n",
      "        Category: vegan chefs tasting\n",
      "        Description: add black perigord truffle $25\n",
      "        Ingredients: san marzano tomatoes\n",
      "        Price: very high cost\n",
      "        Review Summary: many reviews\n",
      "        Rating Summary: well-rated\n",
      "        Category Description: New American\n",
      "Metadata: {'restaurant_name': '3rd cousin', 'location': 'San Francisco, CA, US, 94110', 'categories': \"['New American']\"}\n",
      "--------------------------------------------------\n",
      "Retrieved Document:\n",
      "Menu Item: vegano california sisig burrito\n",
      "        Category: vegano menu\n",
      "        Description: choice of vegan protein with french fries, vegan shredded cheese, vegan sour cream, guacamole & pico de gallo  *some ingredients prepped on shared equipment\n",
      "        Ingredients: vegan shredded cheese\n",
      "        Price: moderate cost\n",
      "        Review Summary: very high reviews\n",
      "        Rating Summary: well-rated\n",
      "        Category Description: Mexican and Filipino and Asian Fusion\n",
      "Metadata: {'restaurant_name': 'señor sisig', 'location': 'San Francisco, CA, US, 94110', 'categories': \"['Mexican', 'Filipino', 'Asian Fusion']\"}\n",
      "--------------------------------------------------\n",
      "Retrieved Document:\n",
      "Menu Item: vegano california sisig burrito\n",
      "        Category: vegano menu\n",
      "        Description: choice of vegan protein with french fries, vegan shredded cheese, vegan sour cream, guacamole & pico de gallo  *some ingredients prepped on shared equipment\n",
      "        Ingredients: french fries\n",
      "        Price: moderate cost\n",
      "        Review Summary: very high reviews\n",
      "        Rating Summary: well-rated\n",
      "        Category Description: Mexican and Filipino and Asian Fusion\n",
      "Metadata: {'restaurant_name': 'señor sisig', 'location': 'San Francisco, CA, US, 94110', 'categories': \"['Mexican', 'Filipino', 'Asian Fusion']\"}\n",
      "--------------------------------------------------\n",
      "Retrieved Document:\n",
      "Menu Item: vegano california sisig burrito\n",
      "        Category: vegano menu\n",
      "        Description: choice of vegan protein with french fries, vegan shredded cheese, vegan sour cream, guacamole & pico de gallo  *some ingredients prepped on shared equipment\n",
      "        Ingredients: vegan protein\n",
      "        Price: moderate cost\n",
      "        Review Summary: very high reviews\n",
      "        Rating Summary: well-rated\n",
      "        Category Description: Mexican and Filipino and Asian Fusion\n",
      "Metadata: {'restaurant_name': 'señor sisig', 'location': 'San Francisco, CA, US, 94110', 'categories': \"['Mexican', 'Filipino', 'Asian Fusion']\"}\n",
      "--------------------------------------------------\n",
      "Retrieved Document:\n",
      "Menu Item: vegan love\n",
      "        Category: pizzas\n",
      "        Description: romesco sauce, roasted cauliflower, spicy calabrian chiles, basil, kalamata olives, arugula, cashew cheese.\n",
      "additions $2\n",
      "pepperoni, soppressata, bacon, sun dried tomatoes, bell pepper, cauliflower, olives, onions, spicy sausage\n",
      "        Ingredients: onions\n",
      "        Price: moderate cost\n",
      "        Review Summary: many reviews\n",
      "        Rating Summary: average rated\n",
      "        Category Description: Cafes and New American and Pizza\n",
      "Metadata: {'restaurant_name': 'precita park cafe', 'location': 'San Francisco, CA, US, 94110', 'categories': \"['Cafes', 'New American', 'Pizza']\"}\n",
      "--------------------------------------------------\n"
     ]
    }
   ],
   "source": [
    "# Load FAISS index\n",
    "vector_store = FAISS.load_local(\"./faiss_index\", embedding_model,allow_dangerous_deserialization=True)\n",
    "# FAISS serialization in LangChain uses pickle, which could be exploited if loading from an untrusted source.\n",
    "\n",
    "# Query example\n",
    "query = \"Compare the average menu price of vegan restaurants in San Francisco vs. Mexican restaurants\"\n",
    "retrieved_docs = vector_store.similarity_search(query, k=5)  # Retrieve top-3 matches\n",
    "\n",
    "# Display retrieved results\n",
    "for doc in retrieved_docs:\n",
    "    print(\"Retrieved Document:\")\n",
    "    print(doc.page_content)\n",
    "    print(\"Metadata:\", doc.metadata)\n",
    "    print(\"-\" * 50)"
   ]
  },
  {
   "cell_type": "code",
   "execution_count": null,
   "metadata": {},
   "outputs": [],
   "source": []
  }
 ],
 "metadata": {
  "kernelspec": {
   "display_name": "venv",
   "language": "python",
   "name": "python3"
  },
  "language_info": {
   "codemirror_mode": {
    "name": "ipython",
    "version": 3
   },
   "file_extension": ".py",
   "mimetype": "text/x-python",
   "name": "python",
   "nbconvert_exporter": "python",
   "pygments_lexer": "ipython3",
   "version": "3.11.6"
  }
 },
 "nbformat": 4,
 "nbformat_minor": 2
}

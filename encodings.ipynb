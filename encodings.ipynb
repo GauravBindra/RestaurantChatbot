{
 "cells": [
  {
   "cell_type": "code",
   "execution_count": 1,
   "metadata": {},
   "outputs": [
    {
     "ename": "ModuleNotFoundError",
     "evalue": "No module named 'sentence_transformers'",
     "output_type": "error",
     "traceback": [
      "\u001b[0;31m---------------------------------------------------------------------------\u001b[0m",
      "\u001b[0;31mModuleNotFoundError\u001b[0m                       Traceback (most recent call last)",
      "Cell \u001b[0;32mIn[1], line 1\u001b[0m\n\u001b[0;32m----> 1\u001b[0m \u001b[38;5;28;01mfrom\u001b[39;00m\u001b[38;5;250m \u001b[39m\u001b[38;5;21;01msentence_transformers\u001b[39;00m\u001b[38;5;250m \u001b[39m\u001b[38;5;28;01mimport\u001b[39;00m SentenceTransformer\n\u001b[1;32m      2\u001b[0m \u001b[38;5;28;01mfrom\u001b[39;00m\u001b[38;5;250m \u001b[39m\u001b[38;5;21;01mlangchain\u001b[39;00m\u001b[38;5;21;01m.\u001b[39;00m\u001b[38;5;21;01mdocument_loaders\u001b[39;00m\u001b[38;5;250m \u001b[39m\u001b[38;5;28;01mimport\u001b[39;00m CSVLoader\n\u001b[1;32m      4\u001b[0m \u001b[38;5;66;03m# 1. Load CSV and create Documents (one per row)\u001b[39;00m\n",
      "\u001b[0;31mModuleNotFoundError\u001b[0m: No module named 'sentence_transformers'"
     ]
    }
   ],
   "source": [
    "from sentence_transformers import SentenceTransformer\n",
    "from langchain.document_loaders import CSVLoader\n",
    "\n",
    "# 1. Load CSV and create Documents (one per row)\n",
    "loader = CSVLoader(file_path=\"contacts.csv\")\n",
    "documents = loader.load()\n",
    "\n",
    "print(documents[0].page_content)  # show structure of first row\n",
    "\n",
    "# 2. Initialize the embedding model (using a sentence-transformer model)\n",
    "embedding_model = SentenceTransformer(\"all-MiniLM-L6-v2\")  # You can change the model\n",
    "\n",
    "# 3. Generate embeddings for all documents (rows)\n",
    "doc_embeddings = embedding_model.encode([doc.page_content for doc in documents], convert_to_tensor=True)\n",
    "\n",
    "# Print shape of embeddings to verify\n",
    "print(doc_embeddings.shape)\n"
   ]
  },
  {
   "cell_type": "code",
   "execution_count": 3,
   "metadata": {},
   "outputs": [
    {
     "data": {
      "application/vnd.jupyter.widget-view+json": {
       "model_id": "1c1b676e8915477689f7f2b76151a44c",
       "version_major": 2,
       "version_minor": 0
      },
      "text/plain": [
       "1_Pooling/config.json:   0%|          | 0.00/190 [00:00<?, ?B/s]"
      ]
     },
     "metadata": {},
     "output_type": "display_data"
    },
    {
     "name": "stdout",
     "output_type": "stream",
     "text": [
      "[-3.05859670e-02 -6.20776303e-02  3.73073407e-02 -3.40212919e-02\n",
      "  4.56047952e-02 -1.10021606e-02  4.79980297e-02  3.85053828e-03\n",
      "  2.72037536e-02  3.65901329e-02 -6.88407049e-02 -1.44740632e-02\n",
      "  3.44443172e-02  5.23359235e-03 -3.55791785e-02  3.25523466e-02\n",
      " -5.26585579e-02  3.39833496e-04 -8.66008699e-02 -5.13887592e-02\n",
      " -7.31118545e-02 -3.60318925e-03  2.12839711e-02 -1.62747279e-02\n",
      " -2.52623763e-02  1.12270378e-01  9.08540934e-03 -7.46146962e-02\n",
      "  3.94907594e-03 -1.09529473e-01  1.35777146e-02  4.06444855e-02\n",
      "  5.10792807e-02  2.52673030e-02 -9.23020095e-02  3.68888862e-02\n",
      " -3.97319496e-02 -4.79117893e-02  4.90372851e-02 -1.05650127e-02\n",
      " -2.14588661e-02  1.32791912e-02  3.24045941e-02 -5.72485588e-02\n",
      "  3.69078554e-02  8.12482238e-02 -4.68188263e-02 -3.16513963e-02\n",
      "  1.14586383e-01  1.03629142e-01 -7.94033110e-02 -2.91160233e-02\n",
      "  3.49520636e-03 -2.08327137e-02 -1.51492432e-02  2.65067443e-02\n",
      "  4.02097292e-02 -3.03349346e-02 -4.07608971e-02 -4.21046838e-02\n",
      "  3.35972980e-02  2.89844908e-02  1.83416251e-02  2.45419908e-02\n",
      "  6.25934526e-02  3.30951586e-02 -1.90190191e-03  2.79988069e-03\n",
      " -4.53548059e-02 -3.42612714e-02  3.60656492e-02  9.27502215e-02\n",
      "  1.33616142e-02  2.53782421e-02  3.81285138e-02  3.16734649e-02\n",
      " -2.24060169e-03 -8.76975656e-02  1.10124283e-01 -7.87334703e-03\n",
      "  5.67056946e-02 -8.16243067e-02 -2.11484935e-02  5.55187054e-02\n",
      " -2.80794018e-04 -6.72107786e-02 -1.02931587e-02 -3.03847026e-02\n",
      "  3.07872631e-02 -1.73463784e-02 -1.81181487e-02 -6.37832284e-03\n",
      " -5.09205041e-03  1.33748921e-02  2.32657976e-02  1.23830820e-02\n",
      " -2.64765248e-02 -7.58411214e-02 -1.35572553e-01  5.35108596e-02\n",
      " -4.50615920e-02 -1.11612072e-02 -3.40554193e-02  3.70031260e-02\n",
      " -4.24846858e-02  4.94997315e-02  1.29157417e-02 -2.12284867e-02\n",
      "  4.71484996e-02 -2.26553455e-02  3.06830788e-03 -1.57985575e-02\n",
      "  7.43048862e-02 -1.80587023e-02  4.88903299e-02  4.52228263e-02\n",
      "  1.29721882e-02  1.03188299e-01  6.73350841e-02  3.90299968e-02\n",
      "  1.27630737e-02  8.42296146e-03 -5.77858509e-03  7.90640190e-02\n",
      "  7.30132088e-02 -1.47095872e-02 -1.19558228e-02 -6.35185866e-33\n",
      " -7.07122609e-02 -1.64891817e-02  8.33037645e-02  4.37156633e-02\n",
      "  2.55806539e-02 -5.57923578e-02  1.71550055e-04  1.51769267e-02\n",
      " -6.37579411e-02 -2.39783097e-02 -1.30837724e-01  2.28924714e-02\n",
      " -7.61623979e-02  7.60789961e-02  4.28281985e-02 -8.19748826e-03\n",
      " -2.52801203e-03 -6.08192794e-02 -4.96281870e-02  1.01124877e-02\n",
      "  3.96695249e-02 -3.32053043e-02  1.30022615e-02  2.72018295e-02\n",
      "  2.44925101e-03  2.23557241e-02  5.35526425e-02 -7.51180351e-02\n",
      "  1.04539014e-01  2.72447392e-02 -4.58007492e-02  4.05869633e-02\n",
      " -7.51492381e-02  2.25682762e-02 -6.86957017e-02 -2.76276004e-03\n",
      " -9.81251225e-02 -6.16330828e-04  3.99846910e-03  9.49172303e-02\n",
      "  4.28236090e-02  3.18907835e-02  5.24272025e-03 -1.00690164e-02\n",
      " -7.52783520e-03 -3.64960142e-05  2.64801248e-03 -2.85504945e-02\n",
      "  9.23012644e-02 -6.03152439e-02 -1.12818532e-01  9.54365544e-03\n",
      "  3.46292034e-02 -1.97986513e-02  7.75449798e-02 -4.78018150e-02\n",
      " -1.42669899e-03  2.31704582e-02 -6.09863289e-02 -6.76779030e-03\n",
      " -2.19243038e-02  7.28257671e-02  1.60385668e-02  4.79291752e-02\n",
      " -2.21445747e-02  6.48898482e-02 -2.46600602e-02  5.90099469e-02\n",
      "  6.48881793e-02  3.83441374e-02 -5.97242713e-02 -2.61582527e-03\n",
      "  1.53348735e-02 -5.47086634e-02 -6.54404461e-02 -1.55029781e-02\n",
      "  5.46073541e-03 -1.01591431e-01 -1.80332530e-02 -7.35613778e-02\n",
      " -8.20034072e-02 -2.93711592e-02 -3.20212804e-02 -4.53119613e-02\n",
      "  8.34244117e-02 -5.93899526e-02 -5.81080206e-02 -6.16512895e-02\n",
      "  2.05363687e-02 -2.46751234e-02 -1.73741877e-02 -4.81039323e-02\n",
      "  3.53873372e-02  5.37037142e-02 -1.39423206e-01  5.08574251e-33\n",
      " -1.13657136e-02 -3.77890430e-02 -3.40521224e-02 -1.29213752e-02\n",
      " -6.97451131e-03 -3.80335860e-02 -4.75856028e-02  4.25734557e-02\n",
      "  4.53708917e-02  9.27020237e-02 -3.27317277e-03 -3.16644907e-02\n",
      " -2.60881726e-02 -9.90216527e-03 -1.74437203e-02  3.68834520e-03\n",
      "  9.20537114e-03  1.01391424e-03  1.63870100e-02  4.01157327e-03\n",
      " -2.42018178e-02  2.33383030e-02 -7.46838227e-02 -6.55844435e-02\n",
      " -1.26944641e-02  7.99616426e-02 -2.44829599e-02  4.69416492e-02\n",
      " -2.58300360e-03  2.90288571e-02 -2.21077818e-02 -9.34055727e-03\n",
      " -4.67907377e-02  2.81306595e-04  1.60016418e-02  4.01101932e-02\n",
      "  1.33921895e-02 -9.96034965e-02 -5.78000955e-02  1.78402606e-02\n",
      "  3.49006131e-02  7.44835415e-04  4.40630354e-02  5.88939860e-02\n",
      " -7.31428061e-03 -4.16404381e-03 -1.13735795e-02  4.02802303e-02\n",
      " -8.90952647e-02 -2.93364972e-02 -6.81090280e-02 -4.46369909e-02\n",
      " -6.11367077e-03 -1.31475046e-01 -9.93754864e-02  6.73520798e-03\n",
      "  7.87254199e-02  3.77845839e-02 -5.60405478e-03  3.22441682e-02\n",
      " -6.57039359e-02  1.59853864e-02  4.41199318e-02  5.79013452e-02\n",
      "  7.86259025e-03 -4.32581501e-03  7.60276094e-02 -1.54810632e-02\n",
      " -4.82574217e-02 -5.76668903e-02  5.69673628e-02  5.28448336e-02\n",
      " -4.00054865e-02  7.62632564e-02 -5.94696961e-02 -5.66199236e-03\n",
      "  2.63192374e-02  1.77951790e-02  2.26212814e-02 -1.53925978e-02\n",
      " -3.89883779e-02  3.12690553e-03  2.81722043e-02  7.68820792e-02\n",
      "  2.63396557e-02  1.58379838e-01  1.23769352e-02 -2.96390504e-02\n",
      " -6.07591011e-02  5.74458688e-02  8.91674217e-03  8.49723965e-02\n",
      "  6.61814818e-04  9.57645290e-03 -6.92160577e-02 -1.48079291e-08\n",
      " -3.20756510e-02  3.37615795e-02  1.44249484e-01  1.63078625e-02\n",
      "  8.36123154e-02 -3.06197703e-02 -3.33511867e-02 -3.73664275e-02\n",
      " -8.09220746e-02 -4.01860289e-02  4.38918807e-02  2.66052093e-02\n",
      " -1.02817081e-02  6.05246499e-02  1.27765000e-01  4.12253961e-02\n",
      "  4.46455292e-02  3.64637114e-02 -7.50021730e-03 -1.97573584e-02\n",
      "  4.31286432e-02  1.13230292e-02 -2.28433721e-02  1.16025927e-02\n",
      " -6.13748142e-03 -6.91348240e-02  8.03031866e-03 -2.72638779e-02\n",
      " -1.77051332e-02  5.77728599e-02 -1.23614110e-02  7.88748637e-02\n",
      "  2.44865529e-02  4.69142459e-02  5.00759706e-02  4.04273607e-02\n",
      "  3.70231904e-02 -2.30274349e-02 -2.95364838e-02 -3.21662910e-02\n",
      " -4.23673987e-02  5.28514534e-02  9.16382996e-04 -1.10920422e-01\n",
      "  3.68625633e-02  1.06934216e-02  3.74864750e-02 -1.38456509e-01\n",
      "  1.18290305e-01 -3.44398655e-02  1.81287173e-02 -1.03052994e-02\n",
      "  2.93547828e-02  1.15451694e-01  1.60667524e-01  3.26025598e-02\n",
      "  1.76191330e-02 -7.78098851e-02  1.97714455e-02  1.00433171e-01\n",
      "  9.33886617e-02  5.53500168e-02  2.24178098e-02 -2.27225497e-02]\n"
     ]
    }
   ],
   "source": [
    "from sentence_transformers import SentenceTransformer\n",
    "\n",
    "# Load a small and efficient embedding model\n",
    "model = SentenceTransformer(\"all-MiniLM-L6-v2\")\n",
    "\n",
    "# Sample Sentences\n",
    "sentences = [\"I love AI!\", \"Machine Learning is amazing!\", \"Python is great for NLP.\"]\n",
    "\n",
    "# Generate Sentence Embeddings\n",
    "embeddings = model.encode(sentences)\n",
    "\n",
    "# Print First Sentence's Embedding (Vector Representation)\n",
    "print(embeddings[0])  # Output: A high-dimensional vector\n"
   ]
  },
  {
   "cell_type": "code",
   "execution_count": 4,
   "metadata": {},
   "outputs": [
    {
     "name": "stdout",
     "output_type": "stream",
     "text": [
      "3\n"
     ]
    }
   ],
   "source": [
    "print(len(embeddings))"
   ]
  },
  {
   "cell_type": "code",
   "execution_count": 5,
   "metadata": {},
   "outputs": [
    {
     "name": "stdout",
     "output_type": "stream",
     "text": [
      "384\n"
     ]
    }
   ],
   "source": [
    "print(len(embeddings[0]))"
   ]
  },
  {
   "cell_type": "code",
   "execution_count": 7,
   "metadata": {},
   "outputs": [
    {
     "name": "stdout",
     "output_type": "stream",
     "text": [
      "[[1.0000001  0.53586495 0.25024596]\n",
      " [0.53586495 1.0000004  0.34046715]\n",
      " [0.25024596 0.34046715 1.0000001 ]]\n"
     ]
    }
   ],
   "source": [
    "from sklearn.metrics.pairwise import cosine_similarity\n",
    "similarity_matrix = cosine_similarity(embeddings)\n",
    "\n",
    "# Print Similarity Scores\n",
    "print(similarity_matrix)"
   ]
  },
  {
   "cell_type": "code",
   "execution_count": 8,
   "metadata": {},
   "outputs": [
    {
     "name": "stdout",
     "output_type": "stream",
     "text": [
      "Most similar: I love AI. (Score: 0.8122)\n"
     ]
    }
   ],
   "source": [
    "def find_most_similar(query, corpus):\n",
    "    query_embedding = model.encode([query])\n",
    "    corpus_embeddings = model.encode(corpus)\n",
    "\n",
    "    # Compute similarity scores\n",
    "    scores = cosine_similarity(query_embedding, corpus_embeddings)[0]\n",
    "\n",
    "    # Find the most similar sentence\n",
    "    most_similar_idx = scores.argmax()\n",
    "    return corpus[most_similar_idx], scores[most_similar_idx]\n",
    "\n",
    "# Example\n",
    "corpus = [\"I love AI.\", \"I enjoy playing football.\", \"NLP is fascinating.\", \"Python is my favorite language.\"]\n",
    "query = \"I like artificial intelligence.\"\n",
    "\n",
    "most_similar_sentence, similarity_score = find_most_similar(query, corpus)\n",
    "print(f\"Most similar: {most_similar_sentence} (Score: {similarity_score:.4f})\")\n"
   ]
  },
  {
   "cell_type": "code",
   "execution_count": 10,
   "metadata": {},
   "outputs": [
    {
     "name": "stdout",
     "output_type": "stream",
     "text": [
      "Index: 1\n",
      "Customer Id: DD37Cf93aecA6Dc\n",
      "First Name: Sheryl\n",
      "Last Name: Baxter\n",
      "Company: Rasmussen Group\n",
      "City: East Leonard\n",
      "Country: Chile\n",
      "Phone 1: 229.077.5154\n",
      "Phone 2: 397.884.0519x718\n",
      "Email: zunigavanessa@smith.info\n",
      "Subscription Date: 2020-08-24\n",
      "Website: http://www.stephenson.com/\n",
      "Embeddings shape: (100, 384)\n"
     ]
    }
   ],
   "source": [
    "from langchain.document_loaders import CSVLoader\n",
    "from sentence_transformers import SentenceTransformer\n",
    "\n",
    "# 1️⃣ Load CSV and create Documents (one per row)\n",
    "loader = CSVLoader(file_path=\"customers-100.csv\")\n",
    "documents = loader.load()\n",
    "\n",
    "print(documents[0].page_content)  # Show structure of first row\n",
    "\n",
    "# 2️⃣ Initialize SentenceTransformer model (MiniLM for efficiency)\n",
    "embedding_model = SentenceTransformer(\"all-MiniLM-L6-v2\")  # You can change the model\n",
    "\n",
    "# 3️⃣ Generate embeddings for all documents (rows)\n",
    "doc_embeddings = embedding_model.encode(\n",
    "    [doc.page_content for doc in documents], \n",
    "    convert_to_numpy=True  # Convert to NumPy array for easier FAISS usage\n",
    ")\n",
    "\n",
    "# Print shape of embeddings to verify\n",
    "print(f\"Embeddings shape: {doc_embeddings.shape}\")  # Output: (num_documents, 384)\n"
   ]
  },
  {
   "cell_type": "code",
   "execution_count": 12,
   "metadata": {},
   "outputs": [],
   "source": [
    "import pandas as pd  \n",
    "toy_data = pd.read_csv(\"customers-100.csv\")"
   ]
  },
  {
   "cell_type": "code",
   "execution_count": 13,
   "metadata": {},
   "outputs": [
    {
     "data": {
      "text/html": [
       "<div>\n",
       "<style scoped>\n",
       "    .dataframe tbody tr th:only-of-type {\n",
       "        vertical-align: middle;\n",
       "    }\n",
       "\n",
       "    .dataframe tbody tr th {\n",
       "        vertical-align: top;\n",
       "    }\n",
       "\n",
       "    .dataframe thead th {\n",
       "        text-align: right;\n",
       "    }\n",
       "</style>\n",
       "<table border=\"1\" class=\"dataframe\">\n",
       "  <thead>\n",
       "    <tr style=\"text-align: right;\">\n",
       "      <th></th>\n",
       "      <th>Index</th>\n",
       "      <th>Customer Id</th>\n",
       "      <th>First Name</th>\n",
       "      <th>Last Name</th>\n",
       "      <th>Company</th>\n",
       "      <th>City</th>\n",
       "      <th>Country</th>\n",
       "      <th>Phone 1</th>\n",
       "      <th>Phone 2</th>\n",
       "      <th>Email</th>\n",
       "      <th>Subscription Date</th>\n",
       "      <th>Website</th>\n",
       "    </tr>\n",
       "  </thead>\n",
       "  <tbody>\n",
       "    <tr>\n",
       "      <th>0</th>\n",
       "      <td>1</td>\n",
       "      <td>DD37Cf93aecA6Dc</td>\n",
       "      <td>Sheryl</td>\n",
       "      <td>Baxter</td>\n",
       "      <td>Rasmussen Group</td>\n",
       "      <td>East Leonard</td>\n",
       "      <td>Chile</td>\n",
       "      <td>229.077.5154</td>\n",
       "      <td>397.884.0519x718</td>\n",
       "      <td>zunigavanessa@smith.info</td>\n",
       "      <td>2020-08-24</td>\n",
       "      <td>http://www.stephenson.com/</td>\n",
       "    </tr>\n",
       "    <tr>\n",
       "      <th>1</th>\n",
       "      <td>2</td>\n",
       "      <td>1Ef7b82A4CAAD10</td>\n",
       "      <td>Preston</td>\n",
       "      <td>Lozano</td>\n",
       "      <td>Vega-Gentry</td>\n",
       "      <td>East Jimmychester</td>\n",
       "      <td>Djibouti</td>\n",
       "      <td>5153435776</td>\n",
       "      <td>686-620-1820x944</td>\n",
       "      <td>vmata@colon.com</td>\n",
       "      <td>2021-04-23</td>\n",
       "      <td>http://www.hobbs.com/</td>\n",
       "    </tr>\n",
       "    <tr>\n",
       "      <th>2</th>\n",
       "      <td>3</td>\n",
       "      <td>6F94879bDAfE5a6</td>\n",
       "      <td>Roy</td>\n",
       "      <td>Berry</td>\n",
       "      <td>Murillo-Perry</td>\n",
       "      <td>Isabelborough</td>\n",
       "      <td>Antigua and Barbuda</td>\n",
       "      <td>+1-539-402-0259</td>\n",
       "      <td>(496)978-3969x58947</td>\n",
       "      <td>beckycarr@hogan.com</td>\n",
       "      <td>2020-03-25</td>\n",
       "      <td>http://www.lawrence.com/</td>\n",
       "    </tr>\n",
       "    <tr>\n",
       "      <th>3</th>\n",
       "      <td>4</td>\n",
       "      <td>5Cef8BFA16c5e3c</td>\n",
       "      <td>Linda</td>\n",
       "      <td>Olsen</td>\n",
       "      <td>Dominguez, Mcmillan and Donovan</td>\n",
       "      <td>Bensonview</td>\n",
       "      <td>Dominican Republic</td>\n",
       "      <td>001-808-617-6467x12895</td>\n",
       "      <td>+1-813-324-8756</td>\n",
       "      <td>stanleyblackwell@benson.org</td>\n",
       "      <td>2020-06-02</td>\n",
       "      <td>http://www.good-lyons.com/</td>\n",
       "    </tr>\n",
       "    <tr>\n",
       "      <th>4</th>\n",
       "      <td>5</td>\n",
       "      <td>053d585Ab6b3159</td>\n",
       "      <td>Joanna</td>\n",
       "      <td>Bender</td>\n",
       "      <td>Martin, Lang and Andrade</td>\n",
       "      <td>West Priscilla</td>\n",
       "      <td>Slovakia (Slovak Republic)</td>\n",
       "      <td>001-234-203-0635x76146</td>\n",
       "      <td>001-199-446-3860x3486</td>\n",
       "      <td>colinalvarado@miles.net</td>\n",
       "      <td>2021-04-17</td>\n",
       "      <td>https://goodwin-ingram.com/</td>\n",
       "    </tr>\n",
       "  </tbody>\n",
       "</table>\n",
       "</div>"
      ],
      "text/plain": [
       "   Index      Customer Id First Name Last Name  \\\n",
       "0      1  DD37Cf93aecA6Dc     Sheryl    Baxter   \n",
       "1      2  1Ef7b82A4CAAD10    Preston    Lozano   \n",
       "2      3  6F94879bDAfE5a6        Roy     Berry   \n",
       "3      4  5Cef8BFA16c5e3c      Linda     Olsen   \n",
       "4      5  053d585Ab6b3159     Joanna    Bender   \n",
       "\n",
       "                           Company               City  \\\n",
       "0                  Rasmussen Group       East Leonard   \n",
       "1                      Vega-Gentry  East Jimmychester   \n",
       "2                    Murillo-Perry      Isabelborough   \n",
       "3  Dominguez, Mcmillan and Donovan         Bensonview   \n",
       "4         Martin, Lang and Andrade     West Priscilla   \n",
       "\n",
       "                      Country                 Phone 1                Phone 2  \\\n",
       "0                       Chile            229.077.5154       397.884.0519x718   \n",
       "1                    Djibouti              5153435776       686-620-1820x944   \n",
       "2         Antigua and Barbuda         +1-539-402-0259    (496)978-3969x58947   \n",
       "3          Dominican Republic  001-808-617-6467x12895        +1-813-324-8756   \n",
       "4  Slovakia (Slovak Republic)  001-234-203-0635x76146  001-199-446-3860x3486   \n",
       "\n",
       "                         Email Subscription Date                      Website  \n",
       "0     zunigavanessa@smith.info        2020-08-24   http://www.stephenson.com/  \n",
       "1              vmata@colon.com        2021-04-23        http://www.hobbs.com/  \n",
       "2          beckycarr@hogan.com        2020-03-25     http://www.lawrence.com/  \n",
       "3  stanleyblackwell@benson.org        2020-06-02   http://www.good-lyons.com/  \n",
       "4      colinalvarado@miles.net        2021-04-17  https://goodwin-ingram.com/  "
      ]
     },
     "execution_count": 13,
     "metadata": {},
     "output_type": "execute_result"
    }
   ],
   "source": [
    "toy_data.head()"
   ]
  },
  {
   "cell_type": "markdown",
   "metadata": {},
   "source": []
  },
  {
   "cell_type": "code",
   "execution_count": 14,
   "metadata": {},
   "outputs": [
    {
     "data": {
      "text/plain": [
       "Index(['Index', 'Customer Id', 'First Name', 'Last Name', 'Company', 'City',\n",
       "       'Country', 'Phone 1', 'Phone 2', 'Email', 'Subscription Date',\n",
       "       'Website'],\n",
       "      dtype='object')"
      ]
     },
     "execution_count": 14,
     "metadata": {},
     "output_type": "execute_result"
    }
   ],
   "source": [
    "toy_data.columns"
   ]
  },
  {
   "cell_type": "code",
   "execution_count": 33,
   "metadata": {},
   "outputs": [
    {
     "name": "stdout",
     "output_type": "stream",
     "text": [
      "page_content='Customer ID: DD37Cf93aecA6Dc\n",
      "        Name: Sheryl Baxter\n",
      "        Company: Rasmussen Group\n",
      "        City: East Leonard\n",
      "        Country: Chile\n",
      "        Phone 1: 229.077.5154\n",
      "        Phone 2: 397.884.0519x718\n",
      "        Email: zunigavanessa@smith.info\n",
      "        Subscription Date: 2020-08-24\n",
      "        Website: http://www.stephenson.com/' metadata={'row_number': 1, 'customer_id': 'DD37Cf93aecA6Dc', 'city': 'East Leonard', 'country': 'Chile'}\n"
     ]
    }
   ],
   "source": [
    "from langchain.document_loaders import CSVLoader\n",
    "import pandas as pd\n",
    "from langchain.schema import Document\n",
    "\n",
    "def custom_csv_loader(file_path):\n",
    "    \"\"\"\n",
    "    Custom function to load a CSV file, format each row into structured text, \n",
    "    and return a list of LangChain Document objects with relevant metadata.\n",
    "\n",
    "    :param file_path: Path to the CSV file\n",
    "    :return: List of LangChain Document objects\n",
    "    \"\"\"\n",
    "    # Load CSV into Pandas DataFrame\n",
    "    df = pd.read_csv(file_path)\n",
    "    \n",
    "    documents = []\n",
    "    \n",
    "    for index, row in df.iterrows():\n",
    "        # Convert row into structured text format\n",
    "        text_representation = f\"\"\"\n",
    "        Customer ID: {row['Customer Id']}\n",
    "        Name: {row['First Name']} {row['Last Name']}\n",
    "        Company: {row['Company']}\n",
    "        City: {row['City']}\n",
    "        Country: {row['Country']}\n",
    "        Phone 1: {row['Phone 1']}\n",
    "        Phone 2: {row['Phone 2']}\n",
    "        Email: {row['Email']}\n",
    "        Subscription Date: {row['Subscription Date']}\n",
    "        Website: {row['Website']}\n",
    "        \"\"\"\n",
    "        \n",
    "        # Metadata excluding file path but adding row number and Customer ID\n",
    "        metadata = {\n",
    "            \"row_number\": index + 1,\n",
    "            \"customer_id\": row[\"Customer Id\"],\n",
    "            \"city\": row[\"City\"],\n",
    "            \"country\": row[\"Country\"]\n",
    "        }\n",
    "\n",
    "        # Create a Document object\n",
    "        document = Document(page_content=text_representation.strip(), metadata=metadata)\n",
    "        documents.append(document)\n",
    "    \n",
    "    return documents\n",
    "\n",
    "# Example usage\n",
    "file_path = \"./customers-100.csv\"\n",
    "documents = custom_csv_loader(file_path)\n",
    "\n",
    "# Display first document for verification\n",
    "print(documents[0])\n"
   ]
  },
  {
   "cell_type": "code",
   "execution_count": 34,
   "metadata": {},
   "outputs": [],
   "source": [
    "# embedding_model = SentenceTransformer(\"all-MiniLM-L6-v2\")  # You can change the model\n",
    "\n",
    "# 3️⃣ Generate embeddings for all documents (rows)\n",
    "# doc_embeddings = embedding_model.encode(\n",
    "#     [doc.page_content for doc in documents], \n",
    "#     convert_to_numpy=True  # Convert to NumPy array for easier FAISS usage\n",
    "# )\n",
    "\n",
    "# # Print shape of embeddings to verify\n",
    "# print(f\"Embeddings shape: {doc_embeddings.shape}\")  # Output: (num_documents, 384)"
   ]
  },
  {
   "cell_type": "code",
   "execution_count": 35,
   "metadata": {},
   "outputs": [],
   "source": [
    "# from langchain.vectorstores import FAISS"
   ]
  },
  {
   "cell_type": "code",
   "execution_count": 36,
   "metadata": {},
   "outputs": [],
   "source": [
    "# Store embeddings in FAISS\n",
    "# vector_store = FAISS.from_documents(documents, embedding_model)\n",
    "\n",
    "# # Save the FAISS index for later use\n",
    "# vector_store.save_local(\"./faiss_index\")"
   ]
  },
  {
   "cell_type": "code",
   "execution_count": 37,
   "metadata": {},
   "outputs": [
    {
     "data": {
      "application/vnd.jupyter.widget-view+json": {
       "model_id": "8e278ebe60b1439881fc53c76f4f65e6",
       "version_major": 2,
       "version_minor": 0
      },
      "text/plain": [
       "modules.json:   0%|          | 0.00/349 [00:00<?, ?B/s]"
      ]
     },
     "metadata": {},
     "output_type": "display_data"
    },
    {
     "data": {
      "application/vnd.jupyter.widget-view+json": {
       "model_id": "5c40df9935a24a83a37176c804edfc13",
       "version_major": 2,
       "version_minor": 0
      },
      "text/plain": [
       "config_sentence_transformers.json:   0%|          | 0.00/124 [00:00<?, ?B/s]"
      ]
     },
     "metadata": {},
     "output_type": "display_data"
    },
    {
     "data": {
      "application/vnd.jupyter.widget-view+json": {
       "model_id": "77cb1daa1044457192dd2c5120ca48ca",
       "version_major": 2,
       "version_minor": 0
      },
      "text/plain": [
       "README.md:   0%|          | 0.00/90.3k [00:00<?, ?B/s]"
      ]
     },
     "metadata": {},
     "output_type": "display_data"
    },
    {
     "data": {
      "application/vnd.jupyter.widget-view+json": {
       "model_id": "d9c2833151ac40949d27cd6d4b92d78c",
       "version_major": 2,
       "version_minor": 0
      },
      "text/plain": [
       "sentence_bert_config.json:   0%|          | 0.00/52.0 [00:00<?, ?B/s]"
      ]
     },
     "metadata": {},
     "output_type": "display_data"
    },
    {
     "data": {
      "application/vnd.jupyter.widget-view+json": {
       "model_id": "56ac06a41386412abe00701c1d13bbf2",
       "version_major": 2,
       "version_minor": 0
      },
      "text/plain": [
       "config.json:   0%|          | 0.00/720 [00:00<?, ?B/s]"
      ]
     },
     "metadata": {},
     "output_type": "display_data"
    },
    {
     "data": {
      "application/vnd.jupyter.widget-view+json": {
       "model_id": "fbf8f5b43a42465cb80deaeaf2240d03",
       "version_major": 2,
       "version_minor": 0
      },
      "text/plain": [
       "model.safetensors:   0%|          | 0.00/1.34G [00:00<?, ?B/s]"
      ]
     },
     "metadata": {},
     "output_type": "display_data"
    },
    {
     "data": {
      "application/vnd.jupyter.widget-view+json": {
       "model_id": "fb1ad1469aa5499cbbe90bb333a6d5f2",
       "version_major": 2,
       "version_minor": 0
      },
      "text/plain": [
       "tokenizer_config.json:   0%|          | 0.00/366 [00:00<?, ?B/s]"
      ]
     },
     "metadata": {},
     "output_type": "display_data"
    },
    {
     "data": {
      "application/vnd.jupyter.widget-view+json": {
       "model_id": "420c8cf24ade4c91b0304ea86f8f6eda",
       "version_major": 2,
       "version_minor": 0
      },
      "text/plain": [
       "vocab.txt:   0%|          | 0.00/232k [00:00<?, ?B/s]"
      ]
     },
     "metadata": {},
     "output_type": "display_data"
    },
    {
     "data": {
      "application/vnd.jupyter.widget-view+json": {
       "model_id": "e77fff215e244fb9893fa1872f953406",
       "version_major": 2,
       "version_minor": 0
      },
      "text/plain": [
       "tokenizer.json:   0%|          | 0.00/711k [00:00<?, ?B/s]"
      ]
     },
     "metadata": {},
     "output_type": "display_data"
    },
    {
     "data": {
      "application/vnd.jupyter.widget-view+json": {
       "model_id": "392fd8b132d949c7b7eca0b4b97f0082",
       "version_major": 2,
       "version_minor": 0
      },
      "text/plain": [
       "special_tokens_map.json:   0%|          | 0.00/125 [00:00<?, ?B/s]"
      ]
     },
     "metadata": {},
     "output_type": "display_data"
    },
    {
     "data": {
      "application/vnd.jupyter.widget-view+json": {
       "model_id": "8063c3827dc74906b07bf36a3077b0e5",
       "version_major": 2,
       "version_minor": 0
      },
      "text/plain": [
       "1_Pooling/config.json:   0%|          | 0.00/191 [00:00<?, ?B/s]"
      ]
     },
     "metadata": {},
     "output_type": "display_data"
    }
   ],
   "source": [
    "from langchain.vectorstores import FAISS\n",
    "from langchain.embeddings import HuggingFaceEmbeddings\n",
    "\n",
    "# Initialize HuggingFace embeddings (uses a model similar to Sentence Transformers)\n",
    "# embedding_model = HuggingFaceEmbeddings(model_name=\"sentence-transformers/all-MiniLM-L6-v2\")\n",
    "embedding_model = HuggingFaceEmbeddings(model_name=\"BAAI/bge-large-en\")\n",
    "\n",
    "# Store embeddings in FAISS for efficient retrieval\n",
    "vector_store = FAISS.from_documents(documents, embedding_model)\n",
    "\n",
    "# Save FAISS index for later use\n",
    "vector_store.save_local(\"./faiss_index\")\n"
   ]
  },
  {
   "cell_type": "code",
   "execution_count": 42,
   "metadata": {},
   "outputs": [
    {
     "name": "stdout",
     "output_type": "stream",
     "text": [
      "Retrieved Document:\n",
      "Customer ID: DD37Cf93aecA6Dc\n",
      "        Name: Sheryl Baxter\n",
      "        Company: Rasmussen Group\n",
      "        City: East Leonard\n",
      "        Country: Chile\n",
      "        Phone 1: 229.077.5154\n",
      "        Phone 2: 397.884.0519x718\n",
      "        Email: zunigavanessa@smith.info\n",
      "        Subscription Date: 2020-08-24\n",
      "        Website: http://www.stephenson.com/\n",
      "Metadata: {'row_number': 1, 'customer_id': 'DD37Cf93aecA6Dc', 'city': 'East Leonard', 'country': 'Chile'}\n",
      "--------------------------------------------------\n",
      "Retrieved Document:\n",
      "Customer ID: C2dE4dEEc489ae0\n",
      "        Name: Sheryl Meyers\n",
      "        Company: Browning-Simon\n",
      "        City: Robersonstad\n",
      "        Country: Cyprus\n",
      "        Phone 1: 854-138-4911x5772\n",
      "        Phone 2: +1-448-910-2276x729\n",
      "        Email: mariokhan@ryan-pope.org\n",
      "        Subscription Date: 2020-01-13\n",
      "        Website: https://www.bullock.net/\n",
      "Metadata: {'row_number': 9, 'customer_id': 'C2dE4dEEc489ae0', 'city': 'Robersonstad', 'country': 'Cyprus'}\n",
      "--------------------------------------------------\n",
      "Retrieved Document:\n",
      "Customer ID: c23d1D9EE8DEB0A\n",
      "        Name: Yvonne Farmer\n",
      "        Company: Fitzgerald-Harrell\n",
      "        City: Lake Elijahview\n",
      "        Country: Aruba\n",
      "        Phone 1: (530)311-9786\n",
      "        Phone 2: 001-869-452-0943x12424\n",
      "        Email: mccarthystephen@horn-green.biz\n",
      "        Subscription Date: 2021-08-11\n",
      "        Website: http://watkins.info/\n",
      "Metadata: {'row_number': 99, 'customer_id': 'c23d1D9EE8DEB0A', 'city': 'Lake Elijahview', 'country': 'Aruba'}\n",
      "--------------------------------------------------\n",
      "Retrieved Document:\n",
      "Customer ID: 010468dAA11382c\n",
      "        Name: Janet Valenzuela\n",
      "        Company: Watts-Donaldson\n",
      "        City: Veronicamouth\n",
      "        Country: Lao People's Democratic Republic\n",
      "        Phone 1: 354.259.5062x7538\n",
      "        Phone 2: 500.433.2022\n",
      "        Email: stefanie71@spence.com\n",
      "        Subscription Date: 2020-09-08\n",
      "        Website: https://moreno.biz/\n",
      "Metadata: {'row_number': 24, 'customer_id': '010468dAA11382c', 'city': 'Veronicamouth', 'country': \"Lao People's Democratic Republic\"}\n",
      "--------------------------------------------------\n",
      "Retrieved Document:\n",
      "Customer ID: 283DFCD0Dba40aF\n",
      "        Name: Gloria Mccall\n",
      "        Company: Brennan, Acosta and Ramos\n",
      "        City: North Kerriton\n",
      "        Country: Ghana\n",
      "        Phone 1: 445-603-6729\n",
      "        Phone 2: 001-395-959-4736x4524\n",
      "        Email: bartlettjenna@zuniga-moss.biz\n",
      "        Subscription Date: 2022-03-11\n",
      "        Website: http://burgess-frank.com/\n",
      "Metadata: {'row_number': 48, 'customer_id': '283DFCD0Dba40aF', 'city': 'North Kerriton', 'country': 'Ghana'}\n",
      "--------------------------------------------------\n"
     ]
    }
   ],
   "source": [
    "# Load FAISS index\n",
    "vector_store = FAISS.load_local(\"./faiss_index\", embedding_model,allow_dangerous_deserialization=True)\n",
    "# FAISS serialization in LangChain uses pickle, which could be exploited if loading from an untrusted source.\n",
    "\n",
    "# Query example\n",
    "query = \"Where is Sheryl from?\"\n",
    "retrieved_docs = vector_store.similarity_search(query, k=5)  # Retrieve top-3 matches\n",
    "\n",
    "# Display retrieved results\n",
    "for doc in retrieved_docs:\n",
    "    print(\"Retrieved Document:\")\n",
    "    print(doc.page_content)\n",
    "    print(\"Metadata:\", doc.metadata)\n",
    "    print(\"-\" * 50)\n"
   ]
  },
  {
   "cell_type": "code",
   "execution_count": null,
   "metadata": {},
   "outputs": [],
   "source": []
  }
 ],
 "metadata": {
  "kernelspec": {
   "display_name": "venv",
   "language": "python",
   "name": "python3"
  },
  "language_info": {
   "codemirror_mode": {
    "name": "ipython",
    "version": 3
   },
   "file_extension": ".py",
   "mimetype": "text/x-python",
   "name": "python",
   "nbconvert_exporter": "python",
   "pygments_lexer": "ipython3",
   "version": "3.11.6"
  }
 },
 "nbformat": 4,
 "nbformat_minor": 2
}

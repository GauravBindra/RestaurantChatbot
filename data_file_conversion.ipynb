{
 "cells": [
  {
   "cell_type": "code",
   "execution_count": 1,
   "metadata": {},
   "outputs": [
    {
     "name": "stdout",
     "output_type": "stream",
     "text": [
      "Missing values per column:\n",
      "restaurant_name         0\n",
      "menu_category          13\n",
      "item_id                 0\n",
      "menu_item               0\n",
      "menu_description    13793\n",
      "ingredient_name        42\n",
      "confidence              0\n",
      "categories            140\n",
      "address1              140\n",
      "city                  140\n",
      "zip_code              140\n",
      "country               140\n",
      "state                 140\n",
      "rating                140\n",
      "review_count          140\n",
      "price                8608\n",
      "dtype: int64\n"
     ]
    }
   ],
   "source": [
    "import pandas as pd\n",
    "\n",
    "# Load the dataset\n",
    "file_path = \"./Data/RestaurantData.csv\"  # Update this path if necessary\n",
    "df = pd.read_csv(file_path)\n",
    "\n",
    "# Count missing values for each column\n",
    "missing_values = df.isnull().sum()\n",
    "\n",
    "# Display the missing values count\n",
    "print(\"Missing values per column:\")\n",
    "print(missing_values)\n"
   ]
  },
  {
   "cell_type": "code",
   "execution_count": null,
   "metadata": {},
   "outputs": [],
   "source": []
  }
 ],
 "metadata": {
  "kernelspec": {
   "display_name": "venv",
   "language": "python",
   "name": "python3"
  },
  "language_info": {
   "codemirror_mode": {
    "name": "ipython",
    "version": 3
   },
   "file_extension": ".py",
   "mimetype": "text/x-python",
   "name": "python",
   "nbconvert_exporter": "python",
   "pygments_lexer": "ipython3",
   "version": "3.11.6"
  }
 },
 "nbformat": 4,
 "nbformat_minor": 2
}
